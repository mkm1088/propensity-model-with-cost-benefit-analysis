{
  "nbformat": 4,
  "nbformat_minor": 0,
  "metadata": {
    "colab": {
      "name": "A/B_testing_lift_conversion_rate.ipynb",
      "version": "0.3.2",
      "provenance": []
    },
    "kernelspec": {
      "name": "python3",
      "display_name": "Python 3"
    }
  },
  "cells": [
    {
      "cell_type": "code",
      "metadata": {
        "id": "ipuBeJ_MEZL9",
        "colab_type": "code",
        "colab": {
          "base_uri": "https://localhost:8080/",
          "height": 34
        },
        "outputId": "a355df6f-00d2-45e1-cfd2-988780078257"
      },
      "source": [
        "from math import lgamma\n",
        "from numba import jit\n",
        "#class calc_prob:\n",
        "\n",
        "#defining the functions used\n",
        "@jit\n",
        "def h(a, b, c, d):\n",
        "    num = lgamma(a + c) + lgamma(b + d) + lgamma(a + b) + lgamma(c + d)\n",
        "    den = lgamma(a) + lgamma(b) + lgamma(c) + lgamma(d) + lgamma(a + b + c + d)\n",
        "    return np.exp(num - den)\n",
        "\n",
        "@jit\n",
        "def g0(a, b, c):    \n",
        "    return np.exp(lgamma(a + b) + lgamma(a + c) - (lgamma(a + b + c) + lgamma(a)))\n",
        "\n",
        "@jit\n",
        "def hiter(a, b, c, d):\n",
        "    while d > 1:\n",
        "        d -= 1\n",
        "        yield h(a, b, c, d) / d\n",
        "\n",
        "def g(a, b, c, d):\n",
        "    return g0(a, b, c) + sum(hiter(a, b, c, d))\n",
        "\n",
        "def calc_prob_between(beta1, beta2):\n",
        "    return g(beta1.args[0], beta1.args[1], beta2.args[0], beta2.args[1])\n",
        "\n",
        "from scipy.stats import beta\n",
        "import numpy as np\n",
        "#from calc_prob import calc_prob_between\n",
        "\n",
        "#This is the known data: imporessions and conversions for the Control and Test set\n",
        "imps_ctrl,convs_ctrl=16500, 30 \n",
        "imps_test, convs_test=17000, 50\n",
        "\n",
        "#here we create the Beta functions for the two sets\n",
        "a_C, b_C = convs_ctrl+1, imps_ctrl-convs_ctrl+1\n",
        "beta_C = beta(a_C, b_C)\n",
        "a_T, b_T = convs_test+1, imps_test-convs_test+1\n",
        "beta_T = beta(a_T, b_T)\n",
        "\n",
        "#calculating the lift\n",
        "lift=(beta_T.mean()-beta_C.mean())/beta_C.mean()\n",
        "\n",
        "#calculating the probability for Test to be better than Control\n",
        "prob=calc_prob_between(beta_T, beta_C)\n",
        "\n",
        "print (f\"Test option lift Conversion Rates by {lift*100:2.2f}% with {prob*100:2.1f}% probability.\")\n",
        "#output: Test option lift Conversion Rates by 59.68% with 98.2% probability."
      ],
      "execution_count": 7,
      "outputs": [
        {
          "output_type": "stream",
          "text": [
            "Test option lift Conversion Rates by 59.68% with 98.2% probability.\n"
          ],
          "name": "stdout"
        }
      ]
    }
  ]
}

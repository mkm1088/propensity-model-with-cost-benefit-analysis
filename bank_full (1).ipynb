{
 "cells": [
  {
   "cell_type": "code",
   "execution_count": 5,
   "metadata": {},
   "outputs": [],
   "source": [
    "# The Social and Economic variables euribor3m_cat and nr_employed_cat contained variable levels that have very large\n",
    "# odds ratios (17,24,28) and variable levels that don’t impact the odds. It would be an interesting study to determine why\n",
    "# there is such a different impact in the levels of these social & economic variables."
   ]
  },
  {
   "cell_type": "code",
   "execution_count": 6,
   "metadata": {
    "colab": {},
    "colab_type": "code",
    "id": "RbQaafYEbKBM"
   },
   "outputs": [],
   "source": [
    "import pandas as pd\n",
    "import numpy as np\n",
    "import matplotlib.pyplot as plt"
   ]
  },
  {
   "cell_type": "code",
   "execution_count": 7,
   "metadata": {
    "colab": {
     "base_uri": "https://localhost:8080/",
     "height": 34
    },
    "colab_type": "code",
    "id": "-KWwTYwwbKBc",
    "outputId": "3c1cfb6c-9d52-4551-c50b-881d60b5e78f"
   },
   "outputs": [
    {
     "data": {
      "text/plain": [
       "(41188, 21)"
      ]
     },
     "execution_count": 7,
     "metadata": {},
     "output_type": "execute_result"
    }
   ],
   "source": [
    "#importing our marketing dataset\n",
    "df = pd.read_csv('bank-additional-full.csv', sep = ';')\n",
    "df.head()\n",
    "df.shape"
   ]
  },
  {
   "cell_type": "code",
   "execution_count": 8,
   "metadata": {
    "colab": {
     "base_uri": "https://localhost:8080/",
     "height": 34
    },
    "colab_type": "code",
    "id": "QeVrop0ibKBy",
    "outputId": "0183e758-7dfe-43a4-d4ea-2294a02365aa"
   },
   "outputs": [
    {
     "data": {
      "text/plain": [
       "(41188, 19)"
      ]
     },
     "execution_count": 8,
     "metadata": {},
     "output_type": "execute_result"
    }
   ],
   "source": [
    "X = np.array(df.drop(['y', 'pdays'], 1))\n",
    "y = np.array(df['y'])\n",
    "X.shape\n"
   ]
  },
  {
   "cell_type": "code",
   "execution_count": 9,
   "metadata": {
    "colab": {},
    "colab_type": "code",
    "id": "hGO-uCM_bKCA"
   },
   "outputs": [],
   "source": [
    "from sklearn.preprocessing import LabelEncoder\n",
    "labels = ['housing', 'default', 'loan']\n",
    "for label in labels:\n",
    "    label_encoder = LabelEncoder()\n",
    "    label_encoder.fit(df[label])\n",
    "    df[label] = label_encoder.transform(df[label])\n"
   ]
  },
  {
   "cell_type": "code",
   "execution_count": 10,
   "metadata": {
    "colab": {},
    "colab_type": "code",
    "id": "zvqHxv_ubKCK"
   },
   "outputs": [],
   "source": [
    "# Will be On-Hot Encoded Later\n",
    "from sklearn.preprocessing import LabelEncoder\n",
    "cols = ['job', 'contact', 'marital','education', 'poutcome', 'month', 'day_of_week']\n",
    "for label in cols:\n",
    "    label_encoder = LabelEncoder()\n",
    "    label_encoder.fit(df[label])\n",
    "    df[label] = label_encoder.transform(df[label])\n",
    "X = np.array(df.drop(['y', 'pdays'], 1))\n",
    "y = np.array(df['y'])"
   ]
  },
  {
   "cell_type": "code",
   "execution_count": null,
   "metadata": {
    "colab": {},
    "colab_type": "code",
    "id": "JoRzzUVEbYKZ"
   },
   "outputs": [],
   "source": []
  },
  {
   "cell_type": "code",
   "execution_count": 11,
   "metadata": {
    "colab": {
     "base_uri": "https://localhost:8080/",
     "height": 34
    },
    "colab_type": "code",
    "id": "IHQHmVmpbKCU",
    "outputId": "6efc3ebc-bdcb-4188-e9be-48a1194a8194"
   },
   "outputs": [
    {
     "name": "stdout",
     "output_type": "stream",
     "text": [
      "[0 0 0 ... 0 1 0]\n"
     ]
    }
   ],
   "source": [
    "from sklearn import preprocessing\n",
    "from sklearn import utils\n",
    "enc = preprocessing.LabelEncoder()\n",
    "y = enc.fit_transform(y)\n",
    "print(y)"
   ]
  },
  {
   "cell_type": "code",
   "execution_count": 12,
   "metadata": {
    "colab": {
     "base_uri": "https://localhost:8080/",
     "height": 34
    },
    "colab_type": "code",
    "id": "sQD8jMshbKCk",
    "outputId": "83ce1723-40ca-47c2-f8bf-e24e355168e8"
   },
   "outputs": [
    {
     "data": {
      "text/plain": [
       "(4119, 21)"
      ]
     },
     "execution_count": 12,
     "metadata": {},
     "output_type": "execute_result"
    }
   ],
   "source": [
    "dff = pd.read_csv('bank-additional.csv', sep = ';')\n",
    "dff.shape"
   ]
  },
  {
   "cell_type": "code",
   "execution_count": 13,
   "metadata": {
    "colab": {},
    "colab_type": "code",
    "id": "zzIDccZ6bKCz"
   },
   "outputs": [],
   "source": [
    "labels1 = ['housing', 'default', 'loan']\n",
    "for label in labels1:\n",
    "    label_encoder = LabelEncoder()\n",
    "    label_encoder.fit(dff[label])\n",
    "    dff[label] = label_encoder.transform(dff[label])\n"
   ]
  },
  {
   "cell_type": "code",
   "execution_count": 14,
   "metadata": {
    "colab": {},
    "colab_type": "code",
    "id": "3f0OqorObKC9"
   },
   "outputs": [],
   "source": [
    "from sklearn.preprocessing import LabelEncoder\n",
    "cols1 = ['job', 'contact', 'marital','education', 'poutcome', 'month', 'day_of_week']\n",
    "for label in cols1:\n",
    "    label_encoder = LabelEncoder()\n",
    "    label_encoder.fit(dff[label])\n",
    "    dff[label] = label_encoder.transform(dff[label])\n",
    "X_test = np.array(dff.drop(['y', 'pdays'], 1))\n",
    "y_test = np.array(dff['y'])"
   ]
  },
  {
   "cell_type": "code",
   "execution_count": 15,
   "metadata": {
    "colab": {
     "base_uri": "https://localhost:8080/",
     "height": 34
    },
    "colab_type": "code",
    "id": "XjarXXcabKDK",
    "outputId": "e83d2c9c-6698-46a7-f1b1-dc212a51be40"
   },
   "outputs": [
    {
     "name": "stdout",
     "output_type": "stream",
     "text": [
      "[0 0 0 ... 0 0 0]\n"
     ]
    }
   ],
   "source": [
    "from sklearn import preprocessing\n",
    "from sklearn import utils\n",
    "enc = preprocessing.LabelEncoder()\n",
    "y_test = enc.fit_transform(y_test)\n",
    "print(y_test)"
   ]
  },
  {
   "cell_type": "code",
   "execution_count": 16,
   "metadata": {
    "colab": {},
    "colab_type": "code",
    "id": "Sb4NDXeNbKDi"
   },
   "outputs": [],
   "source": [
    "from sklearn.preprocessing import MinMaxScaler\n",
    "scaler = MinMaxScaler()\n",
    "# Fit on training set only.\n",
    "X = scaler.fit_transform(X)\n",
    "# Apply transform to both the training set and the test set.\n",
    "#X = scaler.transform(X)\n"
   ]
  },
  {
   "cell_type": "code",
   "execution_count": 17,
   "metadata": {
    "colab": {},
    "colab_type": "code",
    "id": "UMBVNNNibKDr"
   },
   "outputs": [],
   "source": [
    "\n",
    "from sklearn.preprocessing import MinMaxScaler\n",
    "scaler = MinMaxScaler()\n",
    "# Fit on training set only.\n",
    "X_test = scaler.fit_transform(X_test)\n",
    "# Apply transform to both the training set and the test set.\n",
    "#X = scaler.transform(X)"
   ]
  },
  {
   "cell_type": "code",
   "execution_count": 21,
   "metadata": {
    "colab": {
     "base_uri": "https://localhost:8080/",
     "height": 303
    },
    "colab_type": "code",
    "id": "0xIP7kjxbKD0",
    "outputId": "64c36a32-2489-4062-a189-89c2bc0521c3"
   },
   "outputs": [
    {
     "name": "stdout",
     "output_type": "stream",
     "text": [
      "Accuracy is: 0.9376062151007526\n"
     ]
    },
    {
     "data": {
      "text/plain": [
       "<matplotlib.axes._subplots.AxesSubplot at 0xbb6cbb0>"
      ]
     },
     "execution_count": 21,
     "metadata": {},
     "output_type": "execute_result"
    },
    {
     "data": {
      "image/png": "[encoded data removed]",
      "text/plain": [
       "<Figure size 432x288 with 2 Axes>"
      ]
     },
     "metadata": {
      "needs_background": "light"
     },
     "output_type": "display_data"
    }
   ],
   "source": [
    "from sklearn.ensemble import RandomForestClassifier\n",
    "from sklearn.metrics import accuracy_score\n",
    "from sklearn.metrics import confusion_matrix\n",
    "import seaborn as sns\n",
    "#clf_rand = RandomForestClassifier()\n",
    "clf_rand = RandomForestClassifier(n_estimators = 10, criterion = 'entropy', random_state = 0)\n",
    "clf_rand.fit(X, y)\n",
    "a = accuracy_score(y_test, clf_rand.predict(X_test))\n",
    "print('Accuracy is:', a)\n",
    "cm = confusion_matrix(y_test, clf_rand.predict(X_test))\n",
    "sns.heatmap(cm, annot = True, fmt = 'd')"
   ]
  },
  {
   "cell_type": "code",
   "execution_count": 22,
   "metadata": {
    "colab": {
     "base_uri": "https://localhost:8080/",
     "height": 303
    },
    "colab_type": "code",
    "id": "g_3X430FbKEB",
    "outputId": "314b854c-6e67-4d60-e009-681164f3f9c6"
   },
   "outputs": [
    {
     "name": "stdout",
     "output_type": "stream",
     "text": [
      "Accuracy is: 0.9133284777858703\n"
     ]
    },
    {
     "data": {
      "text/plain": [
       "<matplotlib.axes._subplots.AxesSubplot at 0xbbd9330>"
      ]
     },
     "execution_count": 22,
     "metadata": {},
     "output_type": "execute_result"
    },
    {
     "data": {
      "image/png": "[encoded data removed]",
      "text/plain": [
       "<Figure size 432x288 with 2 Axes>"
      ]
     },
     "metadata": {
      "needs_background": "light"
     },
     "output_type": "display_data"
    }
   ],
   "source": [
    "from sklearn.svm import SVC\n",
    "clf_svm = SVC(kernel = 'linear')\n",
    "clf_svm.fit(X, y)\n",
    "a = accuracy_score(y_test, clf_svm.predict(X_test))\n",
    "print('Accuracy is:', a)\n",
    "cm = confusion_matrix(y_test, clf_svm.predict(X_test))\n",
    "sns.heatmap(cm, annot = True, fmt = 'd')"
   ]
  },
  {
   "cell_type": "code",
   "execution_count": 23,
   "metadata": {
    "colab": {
     "base_uri": "https://localhost:8080/",
     "height": 357
    },
    "colab_type": "code",
    "id": "0XuFYF-qbKEN",
    "outputId": "4465acad-bd6b-4332-effc-466393d47948"
   },
   "outputs": [
    {
     "name": "stderr",
     "output_type": "stream",
     "text": [
      "c:\\users\\manisha\\appdata\\local\\programs\\python\\python37-32\\lib\\site-packages\\sklearn\\linear_model\\logistic.py:432: FutureWarning: Default solver will be changed to 'lbfgs' in 0.22. Specify a solver to silence this warning.\n",
      "  FutureWarning)\n"
     ]
    },
    {
     "name": "stdout",
     "output_type": "stream",
     "text": [
      "Accuracy is: 0.913814032532168\n"
     ]
    },
    {
     "data": {
      "text/plain": [
       "<matplotlib.axes._subplots.AxesSubplot at 0xc874a10>"
      ]
     },
     "execution_count": 23,
     "metadata": {},
     "output_type": "execute_result"
    },
    {
     "data": {
      "image/png": "[encoded data removed]",
      "text/plain": [
       "<Figure size 432x288 with 2 Axes>"
      ]
     },
     "metadata": {
      "needs_background": "light"
     },
     "output_type": "display_data"
    }
   ],
   "source": [
    "import seaborn as sns\n",
    "from sklearn.linear_model import LogisticRegression\n",
    "from sklearn.metrics import accuracy_score\n",
    "from sklearn.metrics import confusion_matrix\n",
    "clf_log = LogisticRegression()\n",
    "clf_log.fit(X, y)\n",
    "a = accuracy_score(y_test, clf_log.predict(X_test))\n",
    "print('Accuracy is:', a)\n",
    "cm = confusion_matrix(y_test, clf_log.predict(X_test))\n",
    "sns.heatmap(cm, annot = True, fmt = 'd')"
   ]
  },
  {
   "cell_type": "code",
   "execution_count": 24,
   "metadata": {
    "colab": {
     "base_uri": "https://localhost:8080/",
     "height": 337
    },
    "colab_type": "code",
    "id": "OamCsEZ8bKEf",
    "outputId": "2b68f542-e714-4678-cf9b-c1c46f957986"
   },
   "outputs": [
    {
     "name": "stdout",
     "output_type": "stream",
     "text": [
      "[0 0 0 ... 0 1 0]\n",
      "[0 0 0 ... 0 0 0]\n",
      "Accuracy is: 0.9376062151007526\n"
     ]
    },
    {
     "data": {
      "text/plain": [
       "<matplotlib.axes._subplots.AxesSubplot at 0xa815330>"
      ]
     },
     "execution_count": 24,
     "metadata": {},
     "output_type": "execute_result"
    },
    {
     "data": {
      "image/png": "[encoded data removed]",
      "text/plain": [
       "<Figure size 432x288 with 2 Axes>"
      ]
     },
     "metadata": {
      "needs_background": "light"
     },
     "output_type": "display_data"
    }
   ],
   "source": [
    "import pandas as pd\n",
    "import numpy as np\n",
    "import matplotlib.pyplot as plt\n",
    "from sklearn import preprocessing\n",
    "from sklearn import utils\n",
    "from sklearn.preprocessing import LabelEncoder\n",
    "from sklearn.preprocessing import MinMaxScaler\n",
    "from sklearn.ensemble import RandomForestClassifier\n",
    "from sklearn.metrics import accuracy_score\n",
    "from sklearn.metrics import confusion_matrix\n",
    "from sklearn.linear_model import LogisticRegression\n",
    "from sklearn.svm import SVC\n",
    "import seaborn as sns\n",
    "#importing our marketing dataset\n",
    "df = pd.read_csv('bank-additional-full.csv', sep = ';')\n",
    "df.head()\n",
    "df.shape\n",
    "####################preprocessing the training data ################\n",
    "cols = ['job', 'contact', 'marital','education', 'poutcome', 'month', 'day_of_week', 'housing', 'default', 'loan']\n",
    "for label in cols:\n",
    "    label_encoder = LabelEncoder()\n",
    "    label_encoder.fit(df[label])\n",
    "    df[label] = label_encoder.transform(df[label])\n",
    "X = np.array(df.drop(['y', 'pdays'], 1))\n",
    "y = np.array(df['y'])\n",
    "\n",
    "\n",
    "enc = preprocessing.LabelEncoder()\n",
    "y = enc.fit_transform(y)\n",
    "print(y)\n",
    "dff = pd.read_csv('bank-additional.csv', sep = ';')\n",
    "dff.shape\n",
    "\n",
    "\n",
    "####################preprocessing the test data ################\n",
    "cols1 = ['job', 'contact', 'marital','education', 'poutcome', 'month', 'day_of_week', 'housing', 'default', 'loan']\n",
    "for label in cols1:\n",
    "    label_encoder = LabelEncoder()\n",
    "    label_encoder.fit(dff[label])\n",
    "    dff[label] = label_encoder.transform(dff[label])\n",
    "X_test = np.array(dff.drop(['y', 'pdays'], 1))\n",
    "y_test = np.array(dff['y'])\n",
    "\n",
    "enc = preprocessing.LabelEncoder()\n",
    "y_test = enc.fit_transform(y_test)\n",
    "print(y_test)\n",
    "\n",
    "scaler = MinMaxScaler()\n",
    "# Fit on training set only.\n",
    "X = scaler.fit_transform(X)\n",
    "# Apply transform to both the training set and the test set.\n",
    "\n",
    "\n",
    "scaler = MinMaxScaler()\n",
    "# Fit on training set only.\n",
    "X_test = scaler.fit_transform(X_test)\n",
    "# Apply transform to both the training set and the test set.\n",
    "\n",
    "clf_rand = RandomForestClassifier(n_estimators = 10, criterion = 'entropy', random_state = 0)\n",
    "clf_rand.fit(X, y)\n",
    "a = accuracy_score(y_test, clf_rand.predict(X_test))\n",
    "print('Accuracy is:', a)\n",
    "cm = confusion_matrix(y_test, clf_rand.predict(X_test))\n",
    "sns.heatmap(cm, annot = True, fmt = 'd')\n",
    "\n",
    "\n",
    "############## SVM & LogisticRegression ######################\n",
    "\n",
    "# clf_svm = SVC(kernel = 'linear')\n",
    "# clf_svm.fit(X, y)\n",
    "# a = accuracy_score(y_test, clf_svm.predict(X_test))\n",
    "# print('Accuracy is:', a)\n",
    "# cm = confusion_matrix(y_test, clf_svm.predict(X_test))\n",
    "# sns.heatmap(cm, annot = True, fmt = 'd')\n",
    "\n",
    "# clf_log = LogisticRegression()\n",
    "# clf_log.fit(X, y)\n",
    "# a = accuracy_score(y_test, clf_log.predict(X_test))\n",
    "# print('Accuracy is:', a)\n",
    "# cm = confusion_matrix(y_test, clf_log.predict(X_test))\n",
    "# sns.heatmap(cm, annot = True, fmt = 'd')\n"
   ]
  },
  {
   "cell_type": "code",
   "execution_count": 26,
   "metadata": {
    "colab": {},
    "colab_type": "code",
    "id": "m2TX0Jo5bKEt"
   },
   "outputs": [
    {
     "name": "stdout",
     "output_type": "stream",
     "text": [
      "              precision    recall  f1-score   support\n",
      "\n",
      "     class 0       0.97      0.96      0.96      3668\n",
      "     class 1       0.71      0.73      0.72       451\n",
      "\n",
      "    accuracy                           0.94      4119\n",
      "   macro avg       0.84      0.85      0.84      4119\n",
      "weighted avg       0.94      0.94      0.94      4119\n",
      "\n"
     ]
    }
   ],
   "source": [
    "from sklearn.metrics import classification_report\n",
    "#class wise accuracy\n",
    "target_names = ['class 0', 'class 1']\n",
    "print(classification_report(y_test, clf_rand.predict(X_test), target_names=target_names))"
   ]
  },
  {
   "cell_type": "code",
   "execution_count": null,
   "metadata": {},
   "outputs": [],
   "source": []
  }
 ],
 "metadata": {
  "colab": {
   "name": "NTUC_bank-full.ipynb",
   "provenance": [],
   "version": "0.3.2"
  },
  "kernelspec": {
   "display_name": "Python 3",
   "language": "python",
   "name": "python3"
  },
  "language_info": {
   "codemirror_mode": {
    "name": "ipython",
    "version": 3
   },
   "file_extension": ".py",
   "mimetype": "text/x-python",
   "name": "python",
   "nbconvert_exporter": "python",
   "pygments_lexer": "ipython3",
   "version": "3.7.3"
  }
 },
 "nbformat": 4,
 "nbformat_minor": 1
}
